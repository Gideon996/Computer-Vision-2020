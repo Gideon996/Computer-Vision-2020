{
 "cells": [
  {
   "cell_type": "markdown",
   "metadata": {},
   "source": [
    "# SECOND POINT"
   ]
  },
  {
   "cell_type": "markdown",
   "metadata": {},
   "source": [
    "We will to improve our results by building different CNN with different characteristics. We perform data augmentation in order to have more data to train my network"
   ]
  },
  {
   "cell_type": "code",
   "execution_count": 1,
   "metadata": {},
   "outputs": [
    {
     "name": "stdout",
     "output_type": "stream",
     "text": [
      "importing Jupyter notebook from dataSetUtility.ipynb\n"
     ]
    }
   ],
   "source": [
    "import os\n",
    "import glob\n",
    "import scipy\n",
    "import cv2 as cv2\n",
    "import numpy as np\n",
    "import keras as ks\n",
    "import matplotlib.pyplot as plt\n",
    "import tensorflow as tf\n",
    "import seaborn as sn\n",
    "import pandas as pd\n",
    "\n",
    "from keras.models import Sequential\n",
    "from keras.layers import Dense, Conv2D, Flatten, MaxPooling2D, Activation, BatchNormalization, AveragePooling2D, Dropout\n",
    "from keras.callbacks import EarlyStopping\n",
    "from keras.preprocessing.image import ImageDataGenerator\n",
    "from keras.utils import to_categorical\n",
    "from keras.regularizers import l2\n",
    "from keras.utils import plot_model\n",
    "\n",
    "from sklearn.model_selection import train_test_split\n",
    "from sklearn.metrics import classification_report, confusion_matrix\n",
    "\n",
    "import import_ipynb\n",
    "import dataSetUtility as dsu"
   ]
  },
  {
   "cell_type": "markdown",
   "metadata": {},
   "source": [
    "# DATA AUGMENTATION"
   ]
  },
  {
   "cell_type": "markdown",
   "metadata": {},
   "source": [
    "To improve the results we try to increase the number of data following a transformation from left to right. To do this we use a method from the dataSetUtility."
   ]
  },
  {
   "cell_type": "code",
   "execution_count": 2,
   "metadata": {},
   "outputs": [
    {
     "name": "stdout",
     "output_type": "stream",
     "text": [
      "Class number:  15\n",
      "Class names:  ['Bedroom', 'Coast', 'Forest', 'Highway', 'Industrial', 'InsideCity', 'Kitchen', 'LivingRoom', 'Mountain', 'Office', 'OpenCountry', 'Store', 'Street', 'Suburb', 'TallBuilding']\n"
     ]
    }
   ],
   "source": [
    "#path to the directories\n",
    "pathTrain=r'C:\\Users\\adria\\Desktop\\CVPR\\ImageSet\\train'\n",
    "pathTest=r'C:\\Users\\adria\\Desktop\\CVPR\\ImageSet\\test'\n",
    "\n",
    "labels = [os.path.basename(i) for i in glob.glob(pathTrain + '/*', recursive=True)]\n",
    "numberOfClasses = len(labels)\n",
    "print(\"Class number: \", numberOfClasses)\n",
    "print(\"Class names: \", labels)"
   ]
  },
  {
   "cell_type": "code",
   "execution_count": 3,
   "metadata": {},
   "outputs": [
    {
     "name": "stdout",
     "output_type": "stream",
     "text": [
      "Train len:  3000\n",
      "Train label len:  3000\n",
      "---------------------------------\n",
      "Test len:  2985\n",
      "Test label len:  2985\n"
     ]
    }
   ],
   "source": [
    "xTrainAug, yTrainAug = dsu.dataAugmentation(pathTrain, labels)\n",
    "xTest, yTest = dsu.loadImages(pathTest, labels)\n",
    "print(\"Train len: \", len(xTrainAug))\n",
    "print(\"Train label len: \", len(yTrainAug))\n",
    "print(\"---------------------------------\")\n",
    "print(\"Test len: \", len(xTest))\n",
    "print(\"Test label len: \", len(yTest))"
   ]
  },
  {
   "cell_type": "code",
   "execution_count": 4,
   "metadata": {},
   "outputs": [],
   "source": [
    "yTrainCategorical = to_categorical(yTrainAug)\n",
    "yTestCategorical = to_categorical(yTest)"
   ]
  },
  {
   "cell_type": "code",
   "execution_count": 5,
   "metadata": {},
   "outputs": [
    {
     "name": "stdout",
     "output_type": "stream",
     "text": [
      "len Train Set:  2550\n",
      "len Validation Set:  450\n",
      "len Test Set:  2985\n"
     ]
    }
   ],
   "source": [
    "xTrain, xValidation, yTrain, yValidation = train_test_split(xTrainAug, yTrainCategorical, train_size=0.85, random_state=275)\n",
    "print('len Train Set: ',len(xTrain))\n",
    "print('len Validation Set: ',len(xValidation))\n",
    "print('len Test Set: ',len(xTest))"
   ]
  },
  {
   "cell_type": "markdown",
   "metadata": {},
   "source": [
    "# CNN MODEL"
   ]
  },
  {
   "cell_type": "markdown",
   "metadata": {},
   "source": [
    "Initially we try to apply the data augmentation to the cnn of point one"
   ]
  },
  {
   "cell_type": "code",
   "execution_count": 6,
   "metadata": {},
   "outputs": [],
   "source": [
    "sgd = ks.optimizers.SGD(momentum=0.9,nesterov=True)\n",
    "norm = ks.initializers.RandomNormal(mean=0.0, stddev=0.01, seed=None)\n",
    "baseModel = Sequential([\n",
    "    #first convolutional layer\n",
    "    Conv2D(8, 3,strides=1, padding='valid', activation='relu', input_shape=(64,64,1)),\n",
    "    MaxPooling2D(pool_size=2,strides=2),\n",
    "    \n",
    "    #second convolutional layer\n",
    "    Conv2D(16, 3,strides=1, padding='valid',activation='relu',input_shape=(64,64,1)),\n",
    "    MaxPooling2D(pool_size=2,strides=2),\n",
    "    \n",
    "    #third convolutional layer\n",
    "    Conv2D(32, 3,strides=1, padding='valid',activation='relu',input_shape=(64,64,1)),\n",
    "    Flatten(),\n",
    "    Dense(numberOfClasses, activation='relu',kernel_initializer=norm, bias_initializer='zeros'),\n",
    "    Dense(numberOfClasses, activation='softmax')\n",
    "])\n",
    "\n",
    "baseModel.compile(loss='categorical_crossentropy', optimizer=sgd, metrics = ['accuracy'])"
   ]
  },
  {
   "cell_type": "code",
   "execution_count": 7,
   "metadata": {},
   "outputs": [
    {
     "name": "stdout",
     "output_type": "stream",
     "text": [
      "Epoch 1/100\n",
      "80/80 [==============================] - 3s 30ms/step - loss: 2.7084 - accuracy: 0.0649 - val_loss: 2.7022 - val_accuracy: 0.0933\n",
      "Epoch 2/100\n",
      "80/80 [==============================] - 1s 18ms/step - loss: 2.6949 - accuracy: 0.0792 - val_loss: 2.6546 - val_accuracy: 0.1311\n",
      "Epoch 3/100\n",
      "80/80 [==============================] - 1s 19ms/step - loss: 2.6263 - accuracy: 0.1107 - val_loss: 2.6324 - val_accuracy: 0.1089\n",
      "Epoch 4/100\n",
      "80/80 [==============================] - 1s 18ms/step - loss: 2.4991 - accuracy: 0.1476 - val_loss: 2.2922 - val_accuracy: 0.2444\n",
      "Epoch 5/100\n",
      "80/80 [==============================] - 1s 19ms/step - loss: 2.3385 - accuracy: 0.2048 - val_loss: 2.2266 - val_accuracy: 0.2378\n",
      "Epoch 6/100\n",
      "80/80 [==============================] - 1s 19ms/step - loss: 2.1038 - accuracy: 0.2846 - val_loss: 2.0866 - val_accuracy: 0.2756\n",
      "Epoch 7/100\n",
      "80/80 [==============================] - 1s 18ms/step - loss: 2.0142 - accuracy: 0.3145 - val_loss: 2.0241 - val_accuracy: 0.3089\n",
      "Epoch 8/100\n",
      "80/80 [==============================] - 1s 18ms/step - loss: 1.8211 - accuracy: 0.3895 - val_loss: 2.0754 - val_accuracy: 0.3178\n",
      "Epoch 9/100\n",
      "80/80 [==============================] - 2s 19ms/step - loss: 1.6843 - accuracy: 0.4484 - val_loss: 1.8350 - val_accuracy: 0.3756\n",
      "Epoch 10/100\n",
      "80/80 [==============================] - 2s 19ms/step - loss: 1.4583 - accuracy: 0.4993 - val_loss: 1.7571 - val_accuracy: 0.4111\n",
      "Epoch 11/100\n",
      "80/80 [==============================] - 2s 19ms/step - loss: 1.2824 - accuracy: 0.5670 - val_loss: 2.0137 - val_accuracy: 0.3489\n",
      "Epoch 12/100\n",
      "80/80 [==============================] - 1s 18ms/step - loss: 1.2111 - accuracy: 0.6024 - val_loss: 1.7617 - val_accuracy: 0.4533\n",
      "Epoch 13/100\n",
      "80/80 [==============================] - 1s 18ms/step - loss: 0.9647 - accuracy: 0.6752 - val_loss: 2.1140 - val_accuracy: 0.4333\n",
      "Epoch 14/100\n",
      "80/80 [==============================] - 2s 20ms/step - loss: 0.8148 - accuracy: 0.7194 - val_loss: 1.9616 - val_accuracy: 0.4311\n",
      "Epoch 15/100\n",
      "80/80 [==============================] - 1s 18ms/step - loss: 0.6833 - accuracy: 0.7712 - val_loss: 2.1486 - val_accuracy: 0.4267\n",
      "Epoch 16/100\n",
      "80/80 [==============================] - 1s 18ms/step - loss: 0.5262 - accuracy: 0.8188 - val_loss: 2.3293 - val_accuracy: 0.4333\n",
      "Epoch 17/100\n",
      "80/80 [==============================] - 1s 18ms/step - loss: 0.5080 - accuracy: 0.8183 - val_loss: 2.6896 - val_accuracy: 0.4022\n",
      "Epoch 18/100\n",
      "80/80 [==============================] - 1s 18ms/step - loss: 0.4369 - accuracy: 0.8503 - val_loss: 2.8988 - val_accuracy: 0.4089\n",
      "Epoch 19/100\n",
      "80/80 [==============================] - 2s 19ms/step - loss: 0.2921 - accuracy: 0.9088 - val_loss: 3.4936 - val_accuracy: 0.3978\n"
     ]
    }
   ],
   "source": [
    "earlyStopping = EarlyStopping(min_delta=0.10,patience = 10, monitor='val_loss')\n",
    "\n",
    "history=baseModel.fit(xTrain, yTrain, \n",
    "                      batch_size=32,epochs=100,\n",
    "                      validation_data=(xValidation, yValidation),\n",
    "                      shuffle=True,callbacks=[earlyStopping])"
   ]
  },
  {
   "cell_type": "code",
   "execution_count": 8,
   "metadata": {},
   "outputs": [
    {
     "name": "stdout",
     "output_type": "stream",
     "text": [
      "94/94 [==============================] - 1s 6ms/step - loss: 3.6068 - accuracy: 0.3879\n"
     ]
    },
    {
     "data": {
      "text/plain": [
       "[3.606842517852783, 0.3879396915435791]"
      ]
     },
     "execution_count": 8,
     "metadata": {},
     "output_type": "execute_result"
    }
   ],
   "source": [
    "baseModel.evaluate(xTest, yTestCategorical)"
   ]
  },
  {
   "cell_type": "code",
   "execution_count": null,
   "metadata": {},
   "outputs": [],
   "source": []
  }
 ],
 "metadata": {
  "kernelspec": {
   "display_name": "Python 3",
   "language": "python",
   "name": "python3"
  },
  "language_info": {
   "codemirror_mode": {
    "name": "ipython",
    "version": 3
   },
   "file_extension": ".py",
   "mimetype": "text/x-python",
   "name": "python",
   "nbconvert_exporter": "python",
   "pygments_lexer": "ipython3",
   "version": "3.8.5"
  }
 },
 "nbformat": 4,
 "nbformat_minor": 4
}
