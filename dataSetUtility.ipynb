{
 "cells": [
  {
   "cell_type": "code",
   "execution_count": 1,
   "metadata": {},
   "outputs": [],
   "source": [
    "import matplotlib.pyplot as plt\n",
    "from sklearn.metrics import classification_report, confusion_matrix\n",
    "import tensorflow as tf\n",
    "import seaborn as sn\n",
    "import numpy as np\n",
    "\n",
    "import PIL\n",
    "import os\n",
    "import cv2 as cv2\n",
    "import itertools\n",
    "import glob"
   ]
  },
  {
   "cell_type": "code",
   "execution_count": 2,
   "metadata": {},
   "outputs": [],
   "source": [
    "def loadImages(path, label): #functio to retrive the sets\n",
    "    y = []\n",
    "    x = []\n",
    "\n",
    "    for idx, i in enumerate(label):\n",
    "        for im in glob.glob(path + '/' + i + '/*.jpg', recursive=True):\n",
    "            x.append(cv2.cvtColor(cv2.imread(im), cv2.COLOR_BGR2GRAY))\n",
    "            y.append(idx)\n",
    "\n",
    "    return x, y"
   ]
  },
  {
   "cell_type": "code",
   "execution_count": 3,
   "metadata": {},
   "outputs": [],
   "source": [
    "def reshape(x, width, height, channel):\n",
    "    x = np.array([cv2.resize(im, (width, height), interpolation=cv2.INTER_AREA) for im in x])\n",
    "    x = np.array([np.reshape(im, (width, height, channel)) for im in x])\n",
    "\n",
    "    x = x / 255\n",
    "\n",
    "    return x"
   ]
  },
  {
   "cell_type": "code",
   "execution_count": 4,
   "metadata": {},
   "outputs": [],
   "source": [
    "def plotConfusionMatrix(cm, label, string, directory, title='Confusion Matrix'):\n",
    "    cm = tf.cast(cm, dtype=tf.float32)\n",
    "    cm = cm / tf.math.reduce_sum(cm, axis=1)[:, np.newaxis]\n",
    "    \n",
    "    plt.figure(figsize=(18, 13))\n",
    "    plt.title(title)\n",
    "    sn.heatmap(cm, annot=True, xticklabels=label, yticklabels=label)\n",
    "    plt.xlabel(\"Predicted\")\n",
    "    plt.ylabel(\"True\")\n",
    "    plt.savefig(directory+string+'.png')\n"
   ]
  },
  {
   "cell_type": "code",
   "execution_count": null,
   "metadata": {},
   "outputs": [],
   "source": []
  }
 ],
 "metadata": {
  "kernelspec": {
   "display_name": "Python 3",
   "language": "python",
   "name": "python3"
  },
  "language_info": {
   "codemirror_mode": {
    "name": "ipython",
    "version": 3
   },
   "file_extension": ".py",
   "mimetype": "text/x-python",
   "name": "python",
   "nbconvert_exporter": "python",
   "pygments_lexer": "ipython3",
   "version": "3.8.5"
  }
 },
 "nbformat": 4,
 "nbformat_minor": 4
}
