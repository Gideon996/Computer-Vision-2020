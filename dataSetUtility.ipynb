{
 "cells": [
  {
   "cell_type": "code",
   "execution_count": 1,
   "metadata": {},
   "outputs": [],
   "source": [
    "import matplotlib.pyplot as plt\n",
    "from sklearn.metrics import classification_report, confusion_matrix\n",
    "import tensorflow as tf\n",
    "import seaborn as sn\n",
    "import numpy as np\n",
    "\n",
    "import PIL\n",
    "import os\n",
    "import cv2 as cv2\n",
    "import itertools\n",
    "import glob"
   ]
  },
  {
   "cell_type": "code",
   "execution_count": 2,
   "metadata": {},
   "outputs": [],
   "source": [
    "def loadImages(path, labels, dimension=64): #functio to retrive the sets\n",
    "    y = []\n",
    "    x = []\n",
    "    \n",
    "    for index,name in enumerate(labels):\n",
    "        s = path+'/'+name+'/{}'\n",
    "        temp = [s.format(i) for i in os.listdir(path+'/'+name+'/')]\n",
    "        for image in temp:\n",
    "            x.append(cv2.resize(cv2.imread(image,cv2.IMREAD_GRAYSCALE),(dimension,dimension),interpolation=cv2.INTER_CUBIC))\n",
    "            y.append(index)\n",
    "             \n",
    "    x = np.asarray([np.reshape(im, (dimension, dimension, 1)) for im in x])\n",
    "    x = x/255\n",
    "    y = np.asarray(y)\n",
    "    return x, y"
   ]
  },
  {
   "cell_type": "code",
   "execution_count": 3,
   "metadata": {},
   "outputs": [],
   "source": [
    "def dataAugmentation(path, labels, dimension=64):\n",
    "    x = [] #New ImageSet\n",
    "    y = [] #New Label\n",
    "    \n",
    "    for index,name in enumerate(labels):\n",
    "        s = path+'/'+name+'/{}'\n",
    "        temp = [s.format(i) for i in os.listdir(path+'/'+name+'/')]\n",
    "        for image in temp:\n",
    "            tmp = cv2.resize(cv2.imread(image,cv2.IMREAD_GRAYSCALE),(dimension,dimension),interpolation=cv2.INTER_CUBIC)\n",
    "            x.append(tmp)\n",
    "            x.append(cv2.flip(tmp,1))\n",
    "            y.append(index)\n",
    "            y.append(index)\n",
    "        \n",
    "    x = np.asarray([np.reshape(im, (64, 64, 1)) for im in x])\n",
    "    x=x/255\n",
    "    y = np.asarray(y)\n",
    "    return x,y"
   ]
  },
  {
   "cell_type": "code",
   "execution_count": 4,
   "metadata": {},
   "outputs": [],
   "source": [
    "def plotConfusionMatrix(cm, label, string, directory, title='Confusion Matrix'):\n",
    "    cm = tf.cast(cm, dtype=tf.float32)\n",
    "    cm = cm / tf.math.reduce_sum(cm, axis=1)[:, np.newaxis]\n",
    "    \n",
    "    plt.figure(figsize=(18, 13))\n",
    "    plt.title(title)\n",
    "    sn.heatmap(cm, annot=True, xticklabels=label, yticklabels=label)\n",
    "    plt.xlabel(\"Predicted\")\n",
    "    plt.ylabel(\"True\")\n",
    "    plt.savefig(directory+string+'.png')\n"
   ]
  },
  {
   "cell_type": "code",
   "execution_count": null,
   "metadata": {},
   "outputs": [],
   "source": []
  },
  {
   "cell_type": "code",
   "execution_count": null,
   "metadata": {},
   "outputs": [],
   "source": []
  }
 ],
 "metadata": {
  "kernelspec": {
   "display_name": "Python 3",
   "language": "python",
   "name": "python3"
  },
  "language_info": {
   "codemirror_mode": {
    "name": "ipython",
    "version": 3
   },
   "file_extension": ".py",
   "mimetype": "text/x-python",
   "name": "python",
   "nbconvert_exporter": "python",
   "pygments_lexer": "ipython3",
   "version": "3.8.5"
  }
 },
 "nbformat": 4,
 "nbformat_minor": 4
}
